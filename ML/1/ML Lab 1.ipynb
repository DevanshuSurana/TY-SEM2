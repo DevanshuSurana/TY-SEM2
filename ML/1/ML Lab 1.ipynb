{
 "cells": [
  {
   "cell_type": "code",
   "execution_count": 7,
   "id": "294ab648",
   "metadata": {},
   "outputs": [
    {
     "name": "stdout",
     "output_type": "stream",
     "text": [
      "    Name  Age            City\n",
      "0  Alice   21  San franscisco\n",
      "1    Bob   20        New year\n",
      "2   John   22     Los angeles\n",
      "3   Lisa   23         Chicago\n"
     ]
    }
   ],
   "source": [
    "#importing libraries \n",
    "import numpy as np\n",
    "import pandas as pd\n",
    "\n",
    "Data = {'Name':['Alice', 'Bob', 'John','Lisa'],\n",
    "        'Age':[21,20,22,23],\n",
    "        'City':['San franscisco','New year','Los angeles','Chicago']}\n",
    "\n",
    "df = pd.DataFrame(Data)\n",
    "print(df)"
   ]
  },
  {
   "cell_type": "code",
   "execution_count": 8,
   "id": "4836564a",
   "metadata": {},
   "outputs": [
    {
     "name": "stdout",
     "output_type": "stream",
     "text": [
      "    Name   Age            City\n",
      "0  Alice  21.0  San franscisco\n",
      "1    Bob   NaN        New year\n",
      "2   John  22.0     Los angeles\n",
      "3   None  23.0         Chicago\n",
      "Missing Values:\n",
      "     Name    Age   City\n",
      "0  False  False  False\n",
      "1  False   True  False\n",
      "2  False  False  False\n",
      "3   True  False  False\n",
      "\n",
      "Dataframe after dropping missing values\n",
      "     Name   Age            City\n",
      "0  Alice  21.0  San franscisco\n",
      "2   John  22.0     Los angeles\n",
      "\n",
      "Dataframe after filling missing values\n",
      "       Name   Age            City\n",
      "0    Alice  21.0  San franscisco\n",
      "1      Bob  22.0        New year\n",
      "2     John  22.0     Los angeles\n",
      "3  unknown  23.0         Chicago\n",
      "\n",
      " After Encoding City\n",
      "    Name   Age            City  Encoded_city\n",
      "0  Alice  21.0  San franscisco             3\n",
      "1    Bob   NaN        New year             2\n",
      "2   John  22.0     Los angeles             1\n",
      "3   None  23.0         Chicago             0\n"
     ]
    }
   ],
   "source": [
    "# Handling Missing Values\n",
    "from sklearn.preprocessing import LabelEncoder\n",
    "Data = {'Name':['Alice', 'Bob', 'John',None],\n",
    "        'Age':[21,None,22,23],\n",
    "        'City':['San franscisco','New year','Los angeles','Chicago']}\n",
    "\n",
    "df = pd.DataFrame(Data)\n",
    "print(df)\n",
    "\n",
    "#Checking for missing value\n",
    "print(\"Missing Values:\\n\",df.isnull())\n",
    "\n",
    "#Dropping rows with missing values\n",
    "df_cleaned = df.dropna()\n",
    "\n",
    "#filling missing values with specified values\n",
    "mean_values = df['Age'].mean()\n",
    "df_filled = df.fillna(value={'Name':'unknown',\n",
    "                            'Age': df['Age'].mean()})\n",
    "\n",
    "print(\"\\nDataframe after dropping missing values\\n\",df_cleaned)\n",
    "print(\"\\nDataframe after filling missing values\\n\",df_filled)\n",
    "\n",
    "#encoding Categorical Data\n",
    "label_encoder = LabelEncoder()\n",
    "df['Encoded_city'] = label_encoder.fit_transform(df['City'].astype(str))\n",
    "print(\"\\n After Encoding City\")\n",
    "print(df)"
   ]
  },
  {
   "cell_type": "code",
   "execution_count": 9,
   "id": "fbb98a8e",
   "metadata": {},
   "outputs": [
    {
     "name": "stdout",
     "output_type": "stream",
     "text": [
      "['red', 'blue', 'green', 'yellow', 'white']\n",
      "[2 0 1 4 3]\n",
      "Encoded DataFrame:\n",
      "    Name   Age           City  City_Encoded\n",
      "0  Alice  21.0  San Francisco             3\n",
      "1    Bob   NaN       New York             2\n",
      "2   John  22.0    Los Angeles             1\n",
      "3   None  23.0        Chicago             0\n",
      "\n",
      "X_train:\n",
      "    Age  City_Encoded\n",
      "3  23.0             0\n",
      "0  21.0             3\n",
      "2  22.0             1\n",
      "\n",
      "X_test:\n",
      "   Age  City_Encoded\n",
      "1  NaN             2\n"
     ]
    }
   ],
   "source": [
    "import pandas as pd\n",
    "from sklearn.model_selection import train_test_split\n",
    "from sklearn.preprocessing import LabelEncoder\n",
    "\n",
    "# Encoding Categorical Data\n",
    "categories = ['red', 'blue', 'green', 'yellow', 'white']\n",
    "\n",
    "label_encoder = LabelEncoder()\n",
    "numeric_labels = label_encoder.fit_transform(categories)\n",
    "\n",
    "print(categories)\n",
    "print(numeric_labels)\n",
    "\n",
    "# Creating DataFrame\n",
    "data = {'Name': ['Alice', 'Bob', 'John', None],\n",
    "        'Age': [21, None, 22, 23],\n",
    "        'City': ['San Francisco', 'New York', 'Los Angeles', 'Chicago']}\n",
    "df = pd.DataFrame(data)\n",
    "\n",
    "# Encoding 'City' column\n",
    "label_encoder = LabelEncoder()\n",
    "df['City_Encoded'] = label_encoder.fit_transform(df['City'])\n",
    "X = df[['Age', 'City_Encoded']]\n",
    "y = df['Name']\n",
    "\n",
    "# Splitting the data into training and test sets\n",
    "x_train, x_test, y_train, y_test = train_test_split(X, y, test_size=0.2, random_state=42)\n",
    "\n",
    "print(\"Encoded DataFrame:\")\n",
    "print(df)\n",
    "print(\"\\nX_train:\")\n",
    "print(x_train)\n",
    "print(\"\\nX_test:\")\n",
    "print(x_test)\n"
   ]
  },
  {
   "cell_type": "code",
   "execution_count": 10,
   "id": "449de7cf",
   "metadata": {},
   "outputs": [
    {
     "name": "stdout",
     "output_type": "stream",
     "text": [
      "Independent Variables (Features):\n",
      "     Name   Age           City\n",
      "0  Alice  21.0  San Francisco\n",
      "1    Bob   NaN       New York\n",
      "2   John  22.0    Los Angeles\n",
      "3   None  23.0        Chicago\n",
      "Dependent Variable (Target):\n",
      " 0    3\n",
      "1    2\n",
      "2    1\n",
      "3    0\n",
      "Name: City_Encoded, dtype: int64\n"
     ]
    }
   ],
   "source": [
    "# Independent variables (features)\n",
    "X = df[['Name', 'Age', 'City']]\n",
    "\n",
    "# Dependent variable (target)\n",
    "y = df['City_Encoded']\n",
    "\n",
    "print(\"Independent Variables (Features):\\n\", X)\n",
    "print(\"Dependent Variable (Target):\\n\", y)"
   ]
  },
  {
   "cell_type": "code",
   "execution_count": null,
   "id": "b20560fe",
   "metadata": {},
   "outputs": [],
   "source": []
  }
 ],
 "metadata": {
  "kernelspec": {
   "display_name": "Python 3 (ipykernel)",
   "language": "python",
   "name": "python3"
  },
  "language_info": {
   "codemirror_mode": {
    "name": "ipython",
    "version": 3
   },
   "file_extension": ".py",
   "mimetype": "text/x-python",
   "name": "python",
   "nbconvert_exporter": "python",
   "pygments_lexer": "ipython3",
   "version": "3.10.13"
  }
 },
 "nbformat": 4,
 "nbformat_minor": 5
}
